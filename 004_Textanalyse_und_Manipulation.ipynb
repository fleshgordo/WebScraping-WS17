{
 "cells": [
  {
   "cell_type": "markdown",
   "metadata": {},
   "source": [
    "# Perspective API\n",
    "\n",
    "Mit der [Perspective API](https://www.perspectiveapi.com/) kann man den \"Hasswert\" einer Aussage mit Hilfe eines Machine-Learning Algorithmus messen. Dieser Algorithmus wurde von Jigsaw und Google kreiert und ist Teil einer grösseren Studie, welche Künstliche Intelligenz in Online-Diskussion zum Einsatz bringen möchte. Die Daten mit denen der Algorithmus \"gefüttert\" worden sind, basieren auf persönlichen Attacken, welche von der Plattfrom Wikipedia stammen und von \"Menschen\" verifiziert wurden. \n",
    "\n",
    "Zunächst müssen wir eine Library importieren, damit wir den Perspective API Server \"requesten\" d.h. abrufen könnnen. Dann definieren wir einen Satz und speichern diesen in einer Variablen __querytext__ (den Satz den wir überprüfen möchen)."
   ]
  },
  {
   "cell_type": "code",
   "execution_count": 4,
   "metadata": {
    "collapsed": true
   },
   "outputs": [],
   "source": [
    "import requests, json\n",
    "\n",
    "querytext = \"dialectics can break bricks\""
   ]
  },
  {
   "cell_type": "markdown",
   "metadata": {},
   "source": [
    "Nun müssen wir die URL Adresse von dem Service definieren und einige andere spezifische Parameter deklarieren."
   ]
  },
  {
   "cell_type": "code",
   "execution_count": 6,
   "metadata": {
    "collapsed": true
   },
   "outputs": [],
   "source": [
    "url = \"https://commentanalyzer.googleapis.com/v1alpha1/comments:analyze?key=YOURAPIKEY\"\n",
    "data = {'comment': {'text': querytext}, 'requestedAttributes': {'TOXICITY':{}} }\n",
    "headers = {'Content-type': 'application/json'}"
   ]
  },
  {
   "cell_type": "markdown",
   "metadata": {},
   "source": [
    "Die **url** variable ist der link zur Perspective API welcher auch den API key beinhaltet \"YOURAPIKEY\". Es handelt sich um meinen eigenen API key (Please be careful ;)\n",
    "\n",
    "Bisher haben wir nur Variablen definiert, nun machen wir endlich die Abfrage an den Server mit folgender Zeile:"
   ]
  },
  {
   "cell_type": "code",
   "execution_count": 7,
   "metadata": {},
   "outputs": [],
   "source": [
    "r = requests.post(url, data=json.dumps(data), headers=headers)"
   ]
  },
  {
   "cell_type": "markdown",
   "metadata": {},
   "source": [
    "In der Variable r ist nun die Antwort vom Server gespeichert. Versuchen wir mal die Variable auszugeben:"
   ]
  },
  {
   "cell_type": "code",
   "execution_count": 8,
   "metadata": {},
   "outputs": [
    {
     "name": "stdout",
     "output_type": "stream",
     "text": [
      "<Response [200]>\n"
     ]
    }
   ],
   "source": [
    "print (r)"
   ]
  },
  {
   "cell_type": "markdown",
   "metadata": {},
   "source": [
    "Wir sollten **Response [200]** sehen, wenn alles gut ging. Response 200 heisst soviel, dass der Server erfolgreich geantwortet hat, im Prinzipt ist das nur eine Bestätigung dass die Seite gefunden und abgerufen wurde. Also, bisher alles gut. Habt ihr einen Fehler-Code 404, dann existiert die Seite nicht oder der API Key funktioniert nicht mehr oder ein anderer Fehler ist aufgetreten. Geben wir mal den Text der Antwort aus:"
   ]
  },
  {
   "cell_type": "code",
   "execution_count": 16,
   "metadata": {},
   "outputs": [
    {
     "name": "stdout",
     "output_type": "stream",
     "text": [
      "{\n",
      "  \"attributeScores\": {\n",
      "    \"TOXICITY\": {\n",
      "      \"spanScores\": [\n",
      "        {\n",
      "          \"begin\": 0,\n",
      "          \"end\": 27,\n",
      "          \"score\": {\n",
      "            \"value\": 0.21176243,\n",
      "            \"type\": \"PROBABILITY\"\n",
      "          }\n",
      "        }\n",
      "      ],\n",
      "      \"summaryScore\": {\n",
      "        \"value\": 0.21176243,\n",
      "        \"type\": \"PROBABILITY\"\n",
      "      }\n",
      "    }\n",
      "  },\n",
      "  \"languages\": [\n",
      "    \"en\"\n",
      "  ]\n",
      "}\n",
      "\n"
     ]
    }
   ],
   "source": [
    "print (r.text)"
   ]
  },
  {
   "cell_type": "markdown",
   "metadata": {},
   "source": [
    "Hier sehen wir eine Datenstruktur mit einem Toxicity Score. Der Wert im value Feld zeigt die Toxizität zwischen 0.1 und 0.9 an. Die Schwierigkeit liegt nun darin, den Wert aus dieser Struktur herauszubekommen. Hierbei handelt es sich um eine JSON Datenstruktur. Mehr Infos gibts [hier](https://docs.python.org/2/library/json.html)\n",
    "\n",
    "Speicheren wir zunächst die Antwort in einer Variablen. "
   ]
  },
  {
   "cell_type": "code",
   "execution_count": 7,
   "metadata": {
    "collapsed": true
   },
   "outputs": [],
   "source": [
    "response = r.json()"
   ]
  },
  {
   "cell_type": "markdown",
   "metadata": {},
   "source": [
    "Mit print überprüfen wir ob alles ok ging."
   ]
  },
  {
   "cell_type": "code",
   "execution_count": 8,
   "metadata": {},
   "outputs": [
    {
     "name": "stdout",
     "output_type": "stream",
     "text": [
      "{'attributeScores': {'TOXICITY': {'spanScores': [{'begin': 0, 'end': 27, 'score': {'value': 0.21176243, 'type': 'PROBABILITY'}}], 'summaryScore': {'value': 0.21176243, 'type': 'PROBABILITY'}}}, 'languages': ['en']}\n"
     ]
    }
   ],
   "source": [
    "print (response)"
   ]
  },
  {
   "cell_type": "markdown",
   "metadata": {},
   "source": [
    "Versucht nun mal mit der Syntax der eckigen Klammern die Syntax aufzubrechen. z. B.: "
   ]
  },
  {
   "cell_type": "code",
   "execution_count": 9,
   "metadata": {},
   "outputs": [
    {
     "name": "stdout",
     "output_type": "stream",
     "text": [
      "{'spanScores': [{'begin': 0, 'end': 27, 'score': {'value': 0.21176243, 'type': 'PROBABILITY'}}], 'summaryScore': {'value': 0.21176243, 'type': 'PROBABILITY'}}\n"
     ]
    }
   ],
   "source": [
    "print (response[\"attributeScores\"][\"TOXICITY\"])"
   ]
  },
  {
   "cell_type": "markdown",
   "metadata": {},
   "source": [
    "Seht ihr den Unterschied? Es wird nun nur mehr noch ein Teil der JSON Struktur ausgegeben. Schlussendlich, um an den **Hasswert** heranzukommen, muss man folgendes schreiben:"
   ]
  },
  {
   "cell_type": "code",
   "execution_count": 3,
   "metadata": {},
   "outputs": [
    {
     "name": "stdout",
     "output_type": "stream",
     "text": [
      "0.7720496\n"
     ]
    }
   ],
   "source": [
    "print (response[\"attributeScores\"][\"TOXICITY\"][\"spanScores\"][0][\"score\"][\"value\"])"
   ]
  },
  {
   "cell_type": "markdown",
   "metadata": {},
   "source": [
    "übersichtlicher in einer Variablen, sieht es so aus:"
   ]
  },
  {
   "cell_type": "code",
   "execution_count": 10,
   "metadata": {},
   "outputs": [
    {
     "name": "stdout",
     "output_type": "stream",
     "text": [
      "0.6901405\n"
     ]
    }
   ],
   "source": [
    "hassFaktor = response[\"attributeScores\"][\"TOXICITY\"][\"spanScores\"][0][\"score\"][\"value\"]\n",
    "print(hassFaktor)"
   ]
  },
  {
   "cell_type": "markdown",
   "metadata": {},
   "source": [
    "Der ganze Code nochmal zusammengefasst:"
   ]
  },
  {
   "cell_type": "code",
   "execution_count": 71,
   "metadata": {},
   "outputs": [
    {
     "name": "stdout",
     "output_type": "stream",
     "text": [
      "0.035793785\n"
     ]
    }
   ],
   "source": [
    "import requests, json\n",
    "\n",
    "querytext = \"dialectics can break bricks\"\n",
    "\n",
    "url = \"https://commentanalyzer.googleapis.com/v1alpha1/comments:analyze?key=YOURAPIKEY\"\n",
    "data = {'comment': {'text': querytext}, 'requestedAttributes': {'TOXICITY':{}} }\n",
    "headers = {'Content-type': 'application/json'}\n",
    "\n",
    "\n",
    "r = requests.post(url, data=json.dumps(data), headers=headers)\n",
    "response = r.json()\n",
    "\n",
    "hassFaktor = response[\"attributeScores\"][\"TOXICITY\"][\"spanScores\"][0][\"score\"][\"value\"]\n",
    "print(hassFaktor)"
   ]
  },
  {
   "cell_type": "markdown",
   "metadata": {
    "collapsed": true
   },
   "source": [
    "Probiert mal die Variable __querytext__ zu verändern. Wie verändert sich der Wert? Versucht fünf Sätze-Paare zu finden, die ähnlich klingen bzw. ähnliche Strukturen haben, aber völlig entgegengesetzte Toxicity Werte ausgeben.\n",
    "\n",
    "### Mehrere Sätze überprüfen mit Hilfe einer Liste\n",
    "\n",
    "Man kann auch mehrere Sätze überprüfen, indem man sie in einer Liste (i. e. in einem Array) abspeichert. Mit einem for Loop kann jeder Eintrag/Satz aus dieser Liste nun überprüft werden:"
   ]
  },
  {
   "cell_type": "code",
   "execution_count": 10,
   "metadata": {},
   "outputs": [
    {
     "name": "stdout",
     "output_type": "stream",
     "text": [
      "Straight people shouldn't breed: 0.72420365\n",
      "Gay people shouldn't breed.: 0.9027101\n"
     ]
    }
   ],
   "source": [
    "import requests, json\n",
    "\n",
    "beispielsaetze = [\"Straight people shouldn't breed\", \"Gay people shouldn't breed.\"]\n",
    "\n",
    "for satz in beispielsaetze:\n",
    "    url = \"https://commentanalyzer.googleapis.com/v1alpha1/comments:analyze?key=YOURAPIKEY\"\n",
    "    data = {'comment': {'text': satz}, 'requestedAttributes': {'TOXICITY':{}} }\n",
    "    headers = {'Content-type': 'application/json'}\n",
    "\n",
    "    r = requests.post(url, data=json.dumps(data), headers=headers)\n",
    "    response = r.json()\n",
    "\n",
    "    hassFaktor = response[\"attributeScores\"][\"TOXICITY\"][\"spanScores\"][0][\"score\"][\"value\"]\n",
    "    print(satz + \": \" + str(hassFaktor))"
   ]
  },
  {
   "cell_type": "markdown",
   "metadata": {},
   "source": [
    "# Markov Ketten\n",
    "\n",
    "[Markov Ketten](https://de.wikipedia.org/wiki/Markow-Kette) sind stochastische Modelle welche durch Kenntnis einer nur begrenzten Vorgeschichte Prognosen über die zukünftige Entwicklung möglich machen. Markov Ketten (Markov chains genannt im Englischen) werden in unterschiedlichen Gebieten angewendet, in der Wirtschaftsinformatik, Versicherungsmathematik um Vorhersagen zu machen, aber auch in der elektroakustischen Komposition (z. B. Xenakis) sowie beim Page Ranking (Google). Pyhton bietet eine einfache [Markov Ketten Generator Bibliothek](https://github.com/jsvine/markovify) an.\n",
    "\n",
    "Die Bibliothek markovify kann vielseitig eingesetzt werden. Recht einfach und schnell können Twitter Bots programmiert werden (wie z. B. [@bern_trump_bot](https://twitter.com/bern_trump_bot), [@Mashbot](https://twitter.com/mashomatic), [@thought__leader](https://twitter.com/thought__leader)), aber auch als [Forum für Chatbots](https://www.reddit.com/r/SubredditSimulator/comments/3g9ioz/what_is_rsubredditsimulator/) oder für ein [fiktives Gefängnis-Manual](http://rebecca-ricks.com/2016/05/06/internal-security-zones/).\n",
    "\n",
    "Markov-Ketten für die Generierung von Text sind aber relativ einfach und basieren auf dem Zufallsprinzip. Mit Machine Learning kann ein Computer mit gewissen Texten trainiert werden, welcher diese dann basierend auf dem \"Gelernten\" produzieren kann. Ein Einstiegspunkt ist dieser [Artikel](http://machinelearningmastery.com/text-generation-lstm-recurrent-neural-networks-python-keras/), der den Text von Alice im Wunderland verwendet, um den Computer zu trainieren. Ein Kunstprojekt von [Sascha Pohflepp](http://www.pohflepp.net) mit dem Titel [Recursion](http://www.pohflepp.net/Recursion) verwendet u. a. diese Technik.  "
   ]
  },
  {
   "cell_type": "code",
   "execution_count": 11,
   "metadata": {},
   "outputs": [
    {
     "name": "stdout",
     "output_type": "stream",
     "text": [
      "These coming apocalypses ridicule the norms and organisational structures of the Twenty-First Century, global civilization faces a new breed of cataclysm.\n"
     ]
    }
   ],
   "source": [
    "import markovify\n",
    "\n",
    "text1 = \"\"\"At the beginning of the second decade of the Twenty-First Century, global civilization faces \n",
    "a new breed of cataclysm. These coming apocalypses ridicule the norms and organisational structures of \n",
    "the politics which were forged in the birth of the nation-state, the rise of capitalism, and a \n",
    "Twentieth Century of unprecedented wars.\"\"\"\n",
    "\n",
    "text2 = \"\"\"On our journey to connect the world, we often discuss products we're building and updates on our business. \n",
    "Today I want to focus on the most important question of all: are we building the world we all want? History is the story of how we've learned to come together in ever greater numbers -- from tribes to cities to \n",
    "nations. At each step, we built social infrastructure like communities, media and governments to empower us to \n",
    "achieve things we couldn't on our own. Today we are close to taking our next step. Our greatest opportunities are now global -- like spreading prosperity and freedom, promoting peace and understanding, lifting people out of poverty, and accelerating science. Our greatest challenges also need global responses -- like ending terrorism, fighting climate change, and preventing pandemics. Progress now requires humanity coming together not just as cities or nations, but also as a global community. \n",
    "\"\"\"\n",
    "\n",
    "# Lade den Text in den Markow-Ketten Generator\n",
    "text_model = markovify.Text(text1)\n",
    "\n",
    "# Erstelle einen neuen Satz\n",
    "print(text_model.make_sentence())"
   ]
  },
  {
   "cell_type": "code",
   "execution_count": 8,
   "metadata": {},
   "outputs": [
    {
     "name": "stdout",
     "output_type": "stream",
     "text": [
      "So the paradox is, that it's not staged.\n",
      "My big fear is that not only your elders, but also government and party officials!\n",
      "Under Nazism, if you are buying a certain image of your social identity.\n",
      "Don't wait for someone else to tell you what you desire -- it tells you how much.\n",
      "The only true solution is therefore fully to accept the rules of prison life, however, is somewhat more refined.\n",
      "If there is the Absolute?\n",
      "The name of this trash can all the time.\n",
      "This is why the problem with democratic rituals is homologous to the people, especially the young, in the pursuit of barbarity?\n",
      "If there is a reality in today's Greece.\n",
      "There is an old joke about socialism as the synthesis of the great problem of constitutional monarchy: how to desire.\n"
     ]
    }
   ],
   "source": [
    "import markovify\n",
    "\n",
    "txtfile = \"./txt/zizek.txt\"\n",
    "\n",
    "# Textfile laden\n",
    "with open(txtfile) as f:\n",
    "    text = f.read()\n",
    "\n",
    "# Lade den Text in den Markow-Ketten Generator\n",
    "text_model = markovify.Text(text)\n",
    "\n",
    "# Erzeuge fünf Zufallszahlen\n",
    "#for i in range(5):\n",
    "    #print(text_model.make_sentence())\n",
    "\n",
    "# Erzeuge und gebe 10 Zufallssätze mit max. 140 Zeichen aus\n",
    "for i in range(10):\n",
    "    print(text_model.make_short_sentence(140))"
   ]
  },
  {
   "cell_type": "markdown",
   "metadata": {},
   "source": [
    "Man kann aber auch zwei verschiedene Texte über Markow Ketten miteinander kombinieren. Hier ein Auszug aus der Dokumentation: \n",
    "\n",
    "With `markovify.combine(...)`, you can combine two or more Markov chains. The function accepts two arguments:\n",
    "\n",
    "- `models`: A list of `markovify` objects to combine. Can be instances of `markovify.Chain` or `markovify.Text` (or their subclasses), but all must be of the same type.\n",
    "- `weights`: Optional. A list — the exact length of `models` — of ints or floats indicating how much relative emphasis to place on each source. Default: `[ 1, 1, ... ]`.\n"
   ]
  },
  {
   "cell_type": "code",
   "execution_count": 1,
   "metadata": {},
   "outputs": [
    {
     "name": "stdout",
     "output_type": "stream",
     "text": [
      "I prefer to be Werner Herzog.\n",
      "If you do not need to see them.\n",
      "It's an ego trip, and I'm not out for the experience of adventure.\n",
      "The Mexicans have a plane crash, it's not your own making.\n",
      "It feels like just breathing or walking when I do other sorts of things.\n",
      "I prefer to be Werner Herzog.\n",
      "I would much rather eat potato chips on the guilt of white liberals.\n",
      "And they have to be subversive or critical can be even worse.\n",
      "And just releasing a film more accessible to mainstream audiences.\n",
      "It feels like just breathing or walking when I do other sorts of things.\n"
     ]
    }
   ],
   "source": [
    "import markovify\n",
    "\n",
    "txtfile_a = \"./txt/herzog.txt\"\n",
    "txtfile_b = \"./txt/zizek.txt\"\n",
    "\n",
    "# Textfile laden\n",
    "with open(txtfile_a) as f:\n",
    "    text_a = f.read()\n",
    "    model_a = markovify.Text(text_a)\n",
    "\n",
    "with open(txtfile_b) as f:\n",
    "    text_b = f.read()\n",
    "    model_b = markovify.Text(text_b)\n",
    "\n",
    "# \n",
    "model_combo = markovify.combine([ model_a, model_b ], [ 10, 1 ])\n",
    "for i in range(10):\n",
    "    print(model_combo.make_short_sentence(120))"
   ]
  },
  {
   "cell_type": "markdown",
   "metadata": {},
   "source": [
    "### Das ganze nun mit Twitter kombinieren\n",
    "\n",
    "Nun kann uns erster kleiner Bot eine Markow Kette tweeten."
   ]
  },
  {
   "cell_type": "code",
   "execution_count": 2,
   "metadata": {},
   "outputs": [
    {
     "name": "stdout",
     "output_type": "stream",
     "text": [
      "It is far too simplistic to claim that the people all look, and then they politely ignore it.\n",
      "Nonetheless, there is the proposed remedy tolerance, rather than as problems of inequality, exploitation, or injustice?\n",
      "Under Nazism, if you are not buying a certain social status, ideology, and so on.\n",
      "I know whenever it comes to be alive, so I'm cautious about taking risks.\n",
      "What was his call to the company's success.\n",
      "It's the same way as if you were a Jew, you are really with a storyboard.\n",
      "But marriage was all a nightmare and so you'll never see me there.\n",
      "You are guilty for who you are, you are not buying a certain image of your social identity.\n",
      "I'm politically interested, but I do other sorts of things.\n",
      "The material force of ideology makes me not see what I ironically call a slightly enlightened Buddhist hedonism.\n"
     ]
    }
   ],
   "source": [
    "import tweepy, time\n",
    "from config import config\n",
    "\n",
    "# standard twitter api konfiguration\n",
    "auth = tweepy.OAuthHandler(config['consumer_key'], config['consumer_secret'])\n",
    "auth.set_access_token(config['access_token'], config['access_token_secret'])\n",
    "api = tweepy.API(auth)\n",
    "\n",
    "# markov chain generator\n",
    "model_combo = markovify.combine([ model_a, model_b ], [ 1, 2 ])\n",
    "\n",
    "# schleife\n",
    "for i in range(10):\n",
    "    tweetTXT = model_combo.make_short_sentence(120)\n",
    "    print (tweetTXT)\n",
    "    api.update_status(tweetTXT)\n",
    "    # wir machen 5 sec. pause\n",
    "    time.sleep(15)\n",
    "    "
   ]
  },
  {
   "cell_type": "markdown",
   "metadata": {},
   "source": [
    "~~Interessant wird es wenn wir Tweets direkt an Leute über deren Twitterhandle (mit dem @ Symbol) senden. Man kann mit der Tweepy API diese Handles z. B. direkt von einer Liste herausfinden. Dazu verwendet man die Funktion [list_members()](http://docs.tweepy.org/en/v3.5.0/api.html) von der Tweepy Bibliothek.~~ Aufgrund von diesem Skript bzw. diesem Verhalten wurde mein Account geblockt! Direct mentions an Leute die man nicht unbedingt followed werden von Twitter nicht gerne gesehen. Untenstehende Code also nicht ausführen."
   ]
  },
  {
   "cell_type": "code",
   "execution_count": 12,
   "metadata": {},
   "outputs": [
    {
     "ename": "ImportError",
     "evalue": "No module named 'tweepy'",
     "output_type": "error",
     "traceback": [
      "\u001b[0;31m---------------------------------------------------------------------------\u001b[0m",
      "\u001b[0;31mImportError\u001b[0m                               Traceback (most recent call last)",
      "\u001b[0;32m<ipython-input-12-c6f69795ddfb>\u001b[0m in \u001b[0;36m<module>\u001b[0;34m()\u001b[0m\n\u001b[0;32m----> 1\u001b[0;31m \u001b[0;32mimport\u001b[0m \u001b[0mtweepy\u001b[0m\u001b[0;34m,\u001b[0m \u001b[0mtime\u001b[0m\u001b[0;34m\u001b[0m\u001b[0m\n\u001b[0m\u001b[1;32m      2\u001b[0m \u001b[0;32mfrom\u001b[0m \u001b[0mconfig\u001b[0m \u001b[0;32mimport\u001b[0m \u001b[0mconfig\u001b[0m\u001b[0;34m\u001b[0m\u001b[0m\n\u001b[1;32m      3\u001b[0m \u001b[0;34m\u001b[0m\u001b[0m\n\u001b[1;32m      4\u001b[0m \u001b[0mauth\u001b[0m \u001b[0;34m=\u001b[0m \u001b[0mtweepy\u001b[0m\u001b[0;34m.\u001b[0m\u001b[0mOAuthHandler\u001b[0m\u001b[0;34m(\u001b[0m\u001b[0mconfig\u001b[0m\u001b[0;34m[\u001b[0m\u001b[0;34m'consumer_key'\u001b[0m\u001b[0;34m]\u001b[0m\u001b[0;34m,\u001b[0m \u001b[0mconfig\u001b[0m\u001b[0;34m[\u001b[0m\u001b[0;34m'consumer_secret'\u001b[0m\u001b[0;34m]\u001b[0m\u001b[0;34m)\u001b[0m\u001b[0;34m\u001b[0m\u001b[0m\n\u001b[1;32m      5\u001b[0m \u001b[0mauth\u001b[0m\u001b[0;34m.\u001b[0m\u001b[0mset_access_token\u001b[0m\u001b[0;34m(\u001b[0m\u001b[0mconfig\u001b[0m\u001b[0;34m[\u001b[0m\u001b[0;34m'access_token'\u001b[0m\u001b[0;34m]\u001b[0m\u001b[0;34m,\u001b[0m \u001b[0mconfig\u001b[0m\u001b[0;34m[\u001b[0m\u001b[0;34m'access_token_secret'\u001b[0m\u001b[0;34m]\u001b[0m\u001b[0;34m)\u001b[0m\u001b[0;34m\u001b[0m\u001b[0m\n",
      "\u001b[0;31mImportError\u001b[0m: No module named 'tweepy'"
     ]
    }
   ],
   "source": [
    "import tweepy, time\n",
    "from config import config\n",
    "\n",
    "auth = tweepy.OAuthHandler(config['consumer_key'], config['consumer_secret'])\n",
    "auth.set_access_token(config['access_token'], config['access_token_secret'])\n",
    "api = tweepy.API(auth)\n",
    "\n",
    "#members = api.list_members(\"@MashableNews \", \"trump-s-america\",-1)\n",
    "#model_combo = markovify.combine([ model_a, model_b ], [ 1.5, 1 ])\n",
    "\n",
    "#for i in range(10):\n",
    "#    tweetTXT = \"@\"+ members[i].screen_name + \" \" + model_combo.make_short_sentence(120)\n",
    "#    print (tweetTXT)\n",
    "#    api.update_status(tweetTXT)\n",
    "#    time.sleep(5)\n",
    "    "
   ]
  },
  {
   "cell_type": "code",
   "execution_count": 5,
   "metadata": {
    "collapsed": true
   },
   "outputs": [],
   "source": []
  },
  {
   "cell_type": "code",
   "execution_count": 17,
   "metadata": {
    "collapsed": true
   },
   "outputs": [],
   "source": []
  },
  {
   "cell_type": "code",
   "execution_count": null,
   "metadata": {
    "collapsed": true
   },
   "outputs": [],
   "source": []
  }
 ],
 "metadata": {
  "kernelspec": {
   "display_name": "Python 2",
   "language": "python",
   "name": "python2"
  },
  "language_info": {
   "codemirror_mode": {
    "name": "ipython",
    "version": 2
   },
   "file_extension": ".py",
   "mimetype": "text/x-python",
   "name": "python",
   "nbconvert_exporter": "python",
   "pygments_lexer": "ipython2",
   "version": "2.7.14"
  }
 },
 "nbformat": 4,
 "nbformat_minor": 2
}
