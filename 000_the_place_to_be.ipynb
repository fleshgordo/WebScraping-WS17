{
 "cells": [
  {
   "cell_type": "markdown",
   "metadata": {},
   "source": [
    "# Euer persönliches Notizbuch\n",
    "\n",
    "Das ist der Sandbox Playground. Ihr könnt hier Sachen ausprobieren, zerstören und wiederaufbauen:"
   ]
  },
  {
   "cell_type": "code",
   "execution_count": 1,
   "metadata": {},
   "outputs": [
    {
     "name": "stdout",
     "output_type": "stream",
     "text": [
      "help me\n"
     ]
    }
   ],
   "source": [
    "print \"help me\""
   ]
  },
  {
   "cell_type": "markdown",
   "metadata": {},
   "source": [
    "Das Python Notebook verwendet Markdown für die Text-Syntax. Klicke [hier](https://daringfireball.net/projects/markdown/syntax) um mehr über Markdown zu erfahren. Apropos \"Did you know?\": Hier [etwas](https://www.dataquest.io/blog/jupyter-notebook-tips-tricks-shortcuts/) zur Entstehungsgeschichte von Jupyter Notebook und dessen Anwendungen. \n",
    "\n",
    "> Project Jupyter was born out of the IPython project as the project evolved to become a notebook that could support multiple languages - hence its historical name as the IPython notebook. The name Jupyter is an indirect acronyum of the three core languages it was designed for: JUlia, PYThon, and R and is inspired by the planet Jupiter."
   ]
  },
  {
   "cell_type": "markdown",
   "metadata": {
    "collapsed": true
   },
   "source": [
    "Mit wenigen Shortcuts kann man das Notizbuch erweitern. Hier eine kleine Übersicht an Befehlen:\n",
    "\n",
    "  - __b__ Kreire eine neue Zelle (per Default ist die Zelle ein Python Code)\n",
    "  - __ESC__ Taste beendet man den Editier-Modus (aktuelle Zelle wird inaktiv)\n",
    "  - __ENTER__ aktiviert man den Editir-Modus\n",
    "  - __SHIFT + ENTER__ Führe aktuelle Zelle aus\n",
    "  - __m__ Ändert aktuelle Zelle in Markdown Syntax\n",
    "  - __y__ Ändert aktuelle Zelle in Code Syntax\n",
    "  - __d d__ Löscht aktuelle Zelle"
   ]
  },
  {
   "cell_type": "code",
   "execution_count": null,
   "metadata": {
    "collapsed": true
   },
   "outputs": [],
   "source": []
  }
 ],
 "metadata": {
  "kernelspec": {
   "display_name": "Python 2",
   "language": "python",
   "name": "python2"
  },
  "language_info": {
   "codemirror_mode": {
    "name": "ipython",
    "version": 2
   },
   "file_extension": ".py",
   "mimetype": "text/x-python",
   "name": "python",
   "nbconvert_exporter": "python",
   "pygments_lexer": "ipython2",
   "version": "2.7.14"
  }
 },
 "nbformat": 4,
 "nbformat_minor": 1
}
