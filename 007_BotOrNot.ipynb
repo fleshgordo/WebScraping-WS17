{
 "cells": [
  {
   "cell_type": "markdown",
   "metadata": {},
   "source": [
    "# Bot or not?\n",
    "\n",
    "Mit der BotOrNot [Bibliothek](https://github.com/truthy/botornot-python) kann man Twitter accounts überprüfen ob sie sich bot-mässig verhalten. Dabei werden statistische Analysen über Retweet- und Follower Verhalten, Metadaten und Textanalyse von geposteten Tweets. Mehr Information gibts [hier](http://truthy.indiana.edu/botornot/) und das [Paper als PDF hier](https://arxiv.org/pdf/1602.00975.pdf) und einen [Artikel hier](http://cacm.acm.org/magazines/2016/7/204021-the-rise-of-social-bots/fulltext)."
   ]
  },
  {
   "cell_type": "code",
   "execution_count": 19,
   "metadata": {
    "collapsed": false
   },
   "outputs": [
    {
     "name": "stdout",
     "output_type": "stream",
     "text": [
      "{'categories': {'temporal_classification': 0.3, 'sentiment_classification': 0.45, 'content_classification': 0.56, 'user_classification': 0.49, 'friend_classification': 0.52, 'network_classification': 0.51}, 'score': 0.47, 'meta': {'screen_name': 'JulianAssange', 'user_id': '388983706'}}\n"
     ]
    }
   ],
   "source": [
    "import botornot\n",
    "from config import config\n",
    "\n",
    "twitter_app_auth = {\n",
    "    'consumer_key': config['consumer_key'],\n",
    "    'consumer_secret': config['consumer_secret'],\n",
    "    'access_token': config['access_token'],\n",
    "    'access_token_secret': config['access_token_secret']\n",
    "  }\n",
    "bon = botornot.BotOrNot(**twitter_app_auth)\n",
    "\n",
    "# Check a single account\n",
    "result = bon.check_account('@JulianAssange')\n",
    "\n",
    "print (result)"
   ]
  },
  {
   "cell_type": "markdown",
   "metadata": {
    "collapsed": true
   },
   "source": [
    "Als Antwort erhält man ein [Python Dictionary](https://docs.python.org/2/tutorial/datastructures.html#dictionaries) mit verschiedenen Parametern:"
   ]
  },
  {
   "cell_type": "markdown",
   "metadata": {},
   "source": [
    "~~~~\n",
    "{\n",
    "    'categories': {\n",
    "        'friend_classification': 0.33, \n",
    "        'sentiment_classification': 0.32, \n",
    "        'content_classification': 0.43, \n",
    "        'user_classification': 0.23, \n",
    "        'temporal_classification': 0.31, \n",
    "        'network_classification': 0.1\n",
    "    }, \n",
    "    'meta': {\n",
    "        'user_id': '20858993', \n",
    "        'screen_name': 'frescogamba'\n",
    "    }, \n",
    "    'score': 0.23}\n",
    "~~~~\n"
   ]
  },
  {
   "cell_type": "markdown",
   "metadata": {},
   "source": [
    "Der Score beinhaltet den Index (zwischen 0 und 1) wie wahrscheinlich es ist, dass es sich um einen Bot handelt (0 eher Mensch, 1 eher Bot). Je niedriger dieser Wert desto wahrscheinlicher ist es, dass es sich um einen \"menschlichen\" Akteur handelt.\n",
    "\n",
    "Um nur den Score ausgeben zu lassen, kann man schreiben:"
   ]
  },
  {
   "cell_type": "code",
   "execution_count": 16,
   "metadata": {
    "collapsed": false
   },
   "outputs": [
    {
     "name": "stdout",
     "output_type": "stream",
     "text": [
      "0.23\n"
     ]
    }
   ],
   "source": [
    "print (result[\"score\"])"
   ]
  },
  {
   "cell_type": "markdown",
   "metadata": {},
   "source": [
    "Um einen spezifischen Parameter ausgeben zu lassen:"
   ]
  },
  {
   "cell_type": "code",
   "execution_count": 19,
   "metadata": {
    "collapsed": false
   },
   "outputs": [
    {
     "name": "stdout",
     "output_type": "stream",
     "text": [
      "0.33\n",
      "0.32\n",
      "0.43\n",
      "0.23\n",
      "0.31\n",
      "0.1\n"
     ]
    }
   ],
   "source": [
    "print (result[\"categories\"][\"friend_classification\"])\n",
    "print (result[\"categories\"][\"sentiment_classification\"])\n",
    "print (result[\"categories\"][\"content_classification\"])\n",
    "print (result[\"categories\"][\"user_classification\"])\n",
    "print (result[\"categories\"][\"temporal_classification\"])\n",
    "print (result[\"categories\"][\"network_classification\"])"
   ]
  },
  {
   "cell_type": "markdown",
   "metadata": {},
   "source": [
    "Möchte man mehrere Twitter Accounts überprüfen kann man eine Liste von Accounts erstellen:"
   ]
  },
  {
   "cell_type": "code",
   "execution_count": 26,
   "metadata": {
    "collapsed": true
   },
   "outputs": [],
   "source": [
    "accounts = ['@frescogamba', '@stalfel', '@realdonaldtrump']\n",
    "results = list(bon.check_accounts_in(accounts))"
   ]
  },
  {
   "cell_type": "code",
   "execution_count": 27,
   "metadata": {
    "collapsed": false
   },
   "outputs": [
    {
     "name": "stdout",
     "output_type": "stream",
     "text": [
      "@frescogamba\n",
      "0.23\n",
      "@stalfel\n",
      "0.35\n",
      "@realdonaldtrump\n",
      "0.52\n"
     ]
    }
   ],
   "source": [
    "for result in results:\n",
    "    print (result[0])\n",
    "    print (result[1][\"score\"])"
   ]
  },
  {
   "cell_type": "markdown",
   "metadata": {
    "collapsed": true
   },
   "source": [
    "# Chatterbot\n",
    "\n",
    "ChatterBot ist ein Dialog-Engine, mit welcher man mittels Machine Learning Chatbots erstellen kann. Wie das genauer funktioniert, kann man [hier](http://chatterbot.readthedocs.io/en/stable/) nachlesen. Das einfachste Beispiel sieht so aus:"
   ]
  },
  {
   "cell_type": "code",
   "execution_count": 1,
   "metadata": {
    "collapsed": false
   },
   "outputs": [
    {
     "name": "stderr",
     "output_type": "stream",
     "text": [
      "/opt/conda/lib/python3.5/site-packages/chatterbot/storage/jsonfile.py:26: UnsuitableForProductionWarning: The JsonFileStorageAdapter is not recommended for production environments.\n",
      "  self.UnsuitableForProductionWarning\n"
     ]
    }
   ],
   "source": [
    "from chatterbot import ChatBot\n",
    "\n",
    "# Create a new chat bot named Charlie\n",
    "chatbot = ChatBot(\"Charlie\")"
   ]
  },
  {
   "cell_type": "markdown",
   "metadata": {},
   "source": [
    "Die Bibliothek wird mit import ins Python geladen. Danach erstellen wir das __chatbot__ Objekt "
   ]
  },
  {
   "cell_type": "code",
   "execution_count": 6,
   "metadata": {
    "collapsed": false
   },
   "outputs": [
    {
     "name": "stdout",
     "output_type": "stream",
     "text": [
      "Who? Who is but a form following the function of what\n"
     ]
    }
   ],
   "source": [
    "# Get a response to the input \"How are you?\"\n",
    "response = chatbot.get_response(\"How are you?\")\n",
    "\n",
    "print(response)"
   ]
  },
  {
   "cell_type": "markdown",
   "metadata": {},
   "source": [
    "Der Chatbot hat aber noch keine reelen Daten. Er benötigt davor noch einen Korpus, welchen man beim Erstellen des Chatbots spezifizieren kann."
   ]
  },
  {
   "cell_type": "code",
   "execution_count": 18,
   "metadata": {
    "collapsed": false
   },
   "outputs": [
    {
     "name": "stderr",
     "output_type": "stream",
     "text": [
      "/opt/conda/lib/python3.5/site-packages/chatterbot/storage/jsonfile.py:26: UnsuitableForProductionWarning: The JsonFileStorageAdapter is not recommended for production environments.\n",
      "  self.UnsuitableForProductionWarning\n"
     ]
    },
    {
     "data": {
      "text/plain": [
       "<Statement text:Ja, das ist es>"
      ]
     },
     "execution_count": 18,
     "metadata": {},
     "output_type": "execute_result"
    }
   ],
   "source": [
    "from chatterbot import ChatBot\n",
    "\n",
    "chatbot = ChatBot(\n",
    "    'Ron Obvious',\n",
    "    trainer='chatterbot.trainers.ChatterBotCorpusTrainer'\n",
    ")\n",
    "\n",
    "# Train based on the english corpus\n",
    "chatbot.train(\"chatterbot.corpus.german.greetings\")\n",
    "\n",
    "# Get a response to an input statement\n",
    "chatbot.get_response(\"Das ist ein Witz.\")\n"
   ]
  },
  {
   "cell_type": "code",
   "execution_count": 16,
   "metadata": {
    "collapsed": false
   },
   "outputs": [
    {
     "data": {
      "text/plain": [
       "<Statement text:Ja, das ist es>"
      ]
     },
     "execution_count": 16,
     "metadata": {},
     "output_type": "execute_result"
    }
   ],
   "source": [
    "chatbot.get_response(\"Das ist ein Witz.\")"
   ]
  },
  {
   "cell_type": "code",
   "execution_count": null,
   "metadata": {
    "collapsed": true
   },
   "outputs": [],
   "source": []
  }
 ],
 "metadata": {
  "kernelspec": {
   "display_name": "Python 3",
   "language": "python",
   "name": "python3"
  },
  "language_info": {
   "codemirror_mode": {
    "name": "ipython",
    "version": 3
   },
   "file_extension": ".py",
   "mimetype": "text/x-python",
   "name": "python",
   "nbconvert_exporter": "python",
   "pygments_lexer": "ipython3",
   "version": "3.5.2"
  }
 },
 "nbformat": 4,
 "nbformat_minor": 2
}
