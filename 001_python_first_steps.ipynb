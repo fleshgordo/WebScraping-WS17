{
 "cells": [
  {
   "cell_type": "markdown",
   "metadata": {},
   "source": [
    "# Erste Schritte in Python\n",
    "\n",
    "Python ist eine einfach zu lernende, aber mächtige Programmiersprache. Python ist eine interpretierte Sprache, wodurch sich bei der Programmentwicklung erheblich Zeit sparen lässt, da Kompilieren und Linken nicht nötig sind. Der Interpreter kann interaktiv genutzt werden so wie dieses Notebook.\n",
    "\n",
    "Zunächst, eine Erklärung. In den einzelnen Boxen steht Python Code. Man kann auf die Box klicken, den Inhalt verändern und das Programm dann einfach mit der Play-Taste oben, oder mit Shift-Enter starten und diese eine Zeile ausführen lassen. Probiert es mal aus zwei Zahlen zu addieren und seht was passiert. Ihr könnt die Zahlen direkt im Eingabefenster verändern. "
   ]
  },
  {
   "cell_type": "code",
   "execution_count": 2,
   "metadata": {
    "collapsed": false
   },
   "outputs": [
    {
     "data": {
      "text/plain": [
       "12"
      ]
     },
     "execution_count": 2,
     "metadata": {},
     "output_type": "execute_result"
    }
   ],
   "source": [
    "11+1"
   ]
  },
  {
   "cell_type": "markdown",
   "metadata": {},
   "source": [
    "Versucht einmal eine andere mathematische Operation z.b. * - / . Was ergibt 5/2? "
   ]
  },
  {
   "cell_type": "code",
   "execution_count": 3,
   "metadata": {
    "collapsed": false
   },
   "outputs": [
    {
     "data": {
      "text/plain": [
       "0"
      ]
     },
     "execution_count": 3,
     "metadata": {},
     "output_type": "execute_result"
    }
   ],
   "source": [
    "5/10\n"
   ]
  },
  {
   "cell_type": "markdown",
   "metadata": {},
   "source": [
    "Python kann man ganz einfach auch als Taschenrechner verwenden:"
   ]
  },
  {
   "cell_type": "code",
   "execution_count": 15,
   "metadata": {
    "collapsed": false
   },
   "outputs": [
    {
     "data": {
      "text/plain": [
       "13"
      ]
     },
     "execution_count": 15,
     "metadata": {},
     "output_type": "execute_result"
    }
   ],
   "source": [
    "(50-10) / (2 + 1)"
   ]
  },
  {
   "cell_type": "markdown",
   "metadata": {},
   "source": [
    "### Text versus Zahlen"
   ]
  },
  {
   "cell_type": "markdown",
   "metadata": {},
   "source": [
    "Wenn man Anführungsstriche verwendet, dann interpretiert Python die Zahl nicht als Zahl sondern plötzlich als Text (auf Englisch ist das ein String):"
   ]
  },
  {
   "cell_type": "code",
   "execution_count": 4,
   "metadata": {
    "collapsed": false
   },
   "outputs": [
    {
     "data": {
      "text/plain": [
       "'21'"
      ]
     },
     "execution_count": 4,
     "metadata": {},
     "output_type": "execute_result"
    }
   ],
   "source": [
    "\"2\" + \"1\""
   ]
  },
  {
   "cell_type": "markdown",
   "metadata": {},
   "source": [
    "Versucht mal zwei Wörter zu verbinden. Man spricht hier von \"verketten\" oder to concatenate auf Englisch (hello world)"
   ]
  },
  {
   "cell_type": "code",
   "execution_count": null,
   "metadata": {
    "collapsed": true
   },
   "outputs": [],
   "source": []
  },
  {
   "cell_type": "markdown",
   "metadata": {},
   "source": [
    "Wieviel ergibt 2 + \"2\""
   ]
  },
  {
   "cell_type": "code",
   "execution_count": 26,
   "metadata": {
    "collapsed": false
   },
   "outputs": [
    {
     "data": {
      "text/plain": [
       "4"
      ]
     },
     "execution_count": 26,
     "metadata": {},
     "output_type": "execute_result"
    }
   ],
   "source": [
    "str(3) + \"1\"\n",
    "int(\"2\") + 2"
   ]
  },
  {
   "cell_type": "markdown",
   "metadata": {},
   "source": [
    "### Variablen\n",
    "\n",
    "Eine Variable im allgemeinsten Sinne ist einfach ein Behälter (Container) zur Aufbewahrung von bestimmten Werten, also z.B. Strings oder Zahlen. Man kann im Verlauf des Programms auf diese Variablen, oder genauer auf den Wert ihres Inhaltes zugreifen, oder ihnen einen neuen Wert zuweisen."
   ]
  },
  {
   "cell_type": "code",
   "execution_count": 30,
   "metadata": {
    "collapsed": false
   },
   "outputs": [
    {
     "name": "stdout",
     "output_type": "stream",
     "text": [
      "Yes we can!\n"
     ]
    }
   ],
   "source": [
    "meineVariable = \"Yes\"\n",
    "nochEineVariable = \"we can!\"\n",
    "print meineVariable + \" \" + nochEineVariable "
   ]
  },
  {
   "cell_type": "code",
   "execution_count": 31,
   "metadata": {
    "collapsed": false
   },
   "outputs": [
    {
     "name": "stdout",
     "output_type": "stream",
     "text": [
      "hello world!\n"
     ]
    }
   ],
   "source": [
    "print \"hello world!\"\n"
   ]
  },
  {
   "cell_type": "code",
   "execution_count": null,
   "metadata": {
    "collapsed": true
   },
   "outputs": [],
   "source": []
  },
  {
   "cell_type": "markdown",
   "metadata": {},
   "source": [
    "Aber es wird gleich ein wenig mathematischer. Der Variablen-Name ist frei wählbar, es gibt allerdings ein paar Wörter, die man nicht benutzen darf (z.b. python-spezifische Kommandos wie print). Probiert mal wieder die Addition und versucht den Wert der Variable zu ändern: "
   ]
  },
  {
   "cell_type": "code",
   "execution_count": 37,
   "metadata": {
    "collapsed": false
   },
   "outputs": [
    {
     "data": {
      "text/plain": [
       "10"
      ]
     },
     "execution_count": 37,
     "metadata": {},
     "output_type": "execute_result"
    }
   ],
   "source": [
    "nummer1 = 5\n",
    "nummer2 = 2\n",
    "nummer1 * nummer2\n",
    "#nummer1 + nummer2\n",
    "#nummer1 - nummer2\n",
    "#nummer1 / nummer2"
   ]
  },
  {
   "cell_type": "markdown",
   "metadata": {},
   "source": [
    "Eigentlich würden wir erwarten, dass die Kommandozeile 4 Werte ausspuckt, oder? Man kann das \"print\" statement benutzen, um Werte im Terminal ausgeben zu lassen:"
   ]
  },
  {
   "cell_type": "code",
   "execution_count": 43,
   "metadata": {
    "collapsed": false
   },
   "outputs": [
    {
     "name": "stdout",
     "output_type": "stream",
     "text": [
      "5\n"
     ]
    }
   ],
   "source": [
    "nummer1 = 11\n",
    "nummer2 = 2\n",
    "nummer3 = 2\n",
    "# ALT 3 print nummer3 * nummer2\n",
    "#print nummer1 + nummer2\n",
    "#print nummer1 - nummer2\n",
    "# lajdfljasdlfjasdjlf\n",
    "# schautaljdfljasdlkfjlasdjflasdjf\n",
    "\"\"\"\n",
    "yolo\n",
    "ascii art plz\n",
    "\"\"\"\n",
    "print nummer1 / nummer2"
   ]
  },
  {
   "cell_type": "markdown",
   "metadata": {},
   "source": [
    "Das sieht nun besser aus. \n",
    "\n",
    "Nun probieren wir der Variable i den Wert 42 zuzuweisen\", d.h. der Inhalt von i ist nach der Zuweisung 42. Man kann diesen Wert der Variablen auch, wie man im folgenden Beispiel sieht, anschließend ändern: "
   ]
  },
  {
   "cell_type": "code",
   "execution_count": 51,
   "metadata": {
    "collapsed": false
   },
   "outputs": [
    {
     "name": "stdout",
     "output_type": "stream",
     "text": [
      "42\n",
      "43\n",
      "43\n"
     ]
    }
   ],
   "source": [
    "i = 42\n",
    "print i\n",
    "i = i + 1\n",
    "print i\n",
    "i = 43\n",
    "print i"
   ]
  },
  {
   "cell_type": "markdown",
   "metadata": {},
   "source": [
    "Es kann einem aber ruhig mal ein Fehler passieren. Die Syntax muss nämlich immer exakt sein. Gross/Kleinschreibung, ein Tippfehler wie z.B. statt print Print wirft gleich einen Fehler auf:"
   ]
  },
  {
   "cell_type": "code",
   "execution_count": 49,
   "metadata": {
    "collapsed": false
   },
   "outputs": [
    {
     "name": "stdout",
     "output_type": "stream",
     "text": [
      "54\n"
     ]
    }
   ],
   "source": [
    "#Print i\n",
    "print i"
   ]
  },
  {
   "cell_type": "markdown",
   "metadata": {},
   "source": [
    "Ihr bekommt einen Syntax Error. Die erste Zeile von der Fehlermeldung gibt sofort Aufschluss wo sich der Fehler befindet. Dadurch dass unser Programm nur eine Zeile hat, ist das eben \"line 1\". Ihr seht auch, dass das Wort print nicht mehr grün ist, so wie vorher!"
   ]
  },
  {
   "cell_type": "markdown",
   "metadata": {},
   "source": [
    "Wieviel ergibt i dividiert durch 5? Schreib es selbst in den Terminal unten. Mit Shift+Enter wird der Code ausgeführt. Probiert es mal aus:"
   ]
  },
  {
   "cell_type": "code",
   "execution_count": 6,
   "metadata": {
    "collapsed": false
   },
   "outputs": [
    {
     "data": {
      "text/plain": [
       "8"
      ]
     },
     "execution_count": 6,
     "metadata": {},
     "output_type": "execute_result"
    }
   ],
   "source": [
    "43 / 5\n"
   ]
  },
  {
   "cell_type": "markdown",
   "metadata": {},
   "source": [
    "43 / 5 sollte aber nicht 8 ergeben, sondern 8.6. Python interpretiert die Zahlen aber als Ganzzahlen und gibt sie als Ganzzahlen auch wieder aus. Wenn man aber einen Punkt an die Zahl anfügt, dann versteht Python das ganze plötzlich als Fliesskommazahl:\n"
   ]
  },
  {
   "cell_type": "code",
   "execution_count": 5,
   "metadata": {
    "collapsed": false
   },
   "outputs": [
    {
     "data": {
      "text/plain": [
       "8.6"
      ]
     },
     "execution_count": 5,
     "metadata": {},
     "output_type": "execute_result"
    }
   ],
   "source": [
    "43 / 5."
   ]
  },
  {
   "cell_type": "markdown",
   "metadata": {},
   "source": [
    "Fliesskommazahlen werden auf Englisch float bezeichnet. Ganzzahlen als integer!\n",
    "\n",
    "##### Kommentare\n",
    "\n",
    "Mit dem Raute-Zeichen # kann man Kommentare im Quelltext schreiben, welcher der Python Interpreter nicht als Code interpretiert, sondern nur als Kommentar/Anmerkung dient "
   ]
  },
  {
   "cell_type": "code",
   "execution_count": 2,
   "metadata": {
    "collapsed": false
   },
   "outputs": [
    {
     "name": "stdout",
     "output_type": "stream",
     "text": [
      "wow, bit slower plz\n"
     ]
    }
   ],
   "source": [
    "# Das ist ein Kommentar\n",
    "print \"wow, bit slower plz\"\n",
    "# WTF is this code? Are you 'brogramming'?\n",
    "\n"
   ]
  },
  {
   "cell_type": "markdown",
   "metadata": {},
   "source": [
    "##### Zufallszahlen\n",
    "\n",
    "Nun, lernen wir unsere erste Funktion kennen. Funktionen sind so etwas wie kleine Sub-programme, die uns einen gewissen Wert liefern können. \n",
    "\n",
    "Die Funktion randint(m, n) liefert eine zufällig ausgewählte Zahl aus dem Zahlenbereich {m, m+1, ..., n}. Ein Aufruf randint(1, 6) liefert also eine natürliche Zahl zwischen 1 und 6."
   ]
  },
  {
   "cell_type": "code",
   "execution_count": 89,
   "metadata": {
    "collapsed": false
   },
   "outputs": [
    {
     "data": {
      "text/plain": [
       "790915005687908"
      ]
     },
     "execution_count": 89,
     "metadata": {},
     "output_type": "execute_result"
    }
   ],
   "source": [
    "randint(90000000000000,1000000000000000)"
   ]
  },
  {
   "cell_type": "markdown",
   "metadata": {},
   "source": [
    "Wir bekommen aber eine Fehlermeldung dass 'randint' nicht definiert ist. Was bedeutet das? Python ist sehr modular aufgebaut. Die random Funktion ist ein extra Modul und muss zunächst importiert werden:"
   ]
  },
  {
   "cell_type": "code",
   "execution_count": 76,
   "metadata": {
    "collapsed": true
   },
   "outputs": [],
   "source": [
    "from random import randint"
   ]
  },
  {
   "cell_type": "markdown",
   "metadata": {},
   "source": [
    "Wenn ihr den Block oben mit Shift-Enter passiert zunächst nichts. Aber das random Modul wurde nun automatisch in unser Notizbuch geladen und wir können nun nochmals probieren, ob die randint Funktion funktioniert:\n"
   ]
  },
  {
   "cell_type": "code",
   "execution_count": 3,
   "metadata": {
    "collapsed": false
   },
   "outputs": [
    {
     "data": {
      "text/plain": [
       "0"
      ]
     },
     "execution_count": 3,
     "metadata": {},
     "output_type": "execute_result"
    }
   ],
   "source": [
    "randint(0,4)"
   ]
  },
  {
   "cell_type": "markdown",
   "metadata": {},
   "source": [
    "Probiert es öfter. Bei jedem Aufruf sollte sich die Ausgabe verändern! Versucht nun die Ausgabe von randint in einer Variable zu speichern und erst später ausgeben zu lassen. Wenn das klappt, dann probiert noch einen Text hinzuzufügen z.B. \"Deine heutige Glueckszahl ist: \" Verwende dazu die randint Funktion und 2x das print statement:"
   ]
  },
  {
   "cell_type": "code",
   "execution_count": null,
   "metadata": {
    "collapsed": false
   },
   "outputs": [],
   "source": []
  },
  {
   "cell_type": "markdown",
   "metadata": {},
   "source": [
    "### Bedingte Anweisungen\n",
    "\n",
    "Zu bestimmten Zeiten sind gewisse Entscheidungen unvermeidlich. Bisher sind wir in der Lage Programme zu schreiben, in denen eine Anweisung auf die andere folgt und diese auch in dieser Reihenfolge ausgeführt werden. In einer Programmiersprache versteht man unter einer bedingten Anweisung, wie man Verzweigungen auch nennt, Codeteile, die unter bestimmten Bedingungen ausgeführt werden. Liegt die Bedingung nicht vor, wird dieser Code nicht ausgeführt. Anders ausgedrückt: Eine Verzweigung legt fest welcher von zwei (oder auch mehr) Programmteilen (Alternativen) in Abhängigkeit von einer (oder mehreren) Bedingungen ausgeführt wird. Normalerweise sieht das so in Python aus:"
   ]
  },
  {
   "cell_type": "code",
   "execution_count": null,
   "metadata": {
    "collapsed": true
   },
   "outputs": [],
   "source": [
    "if bedingung1:\n",
    "    anweisungen1"
   ]
  },
  {
   "cell_type": "markdown",
   "metadata": {},
   "source": [
    "Ihr seht die zweite Zeile ist eingerückt. Mit der Tabulator-Taste macht man die Einrückung. Wie funktionieren nun diese Anweisung. Mit der Bedingung überprüft man ob ein Zustand \"wahr\" oder \"falsch\" ist\n"
   ]
  },
  {
   "cell_type": "code",
   "execution_count": 105,
   "metadata": {
    "collapsed": false
   },
   "outputs": [
    {
     "name": "stdout",
     "output_type": "stream",
     "text": [
      "das ist falsch\n",
      "aussendraussen\n",
      "--------------\n"
     ]
    }
   ],
   "source": [
    "nummer1 = 3\n",
    "nummer2 = 5\n",
    "if nummer1 == nummer2:\n",
    "    print \"wahr!!!!\"\n",
    "else:\n",
    "    print \"das ist falsch\"\n",
    "    print \"aussendraussen\"\n",
    "    print \"--------------\""
   ]
  },
  {
   "cell_type": "markdown",
   "metadata": {},
   "source": [
    "Versucht nun mal die Nummern zu ändern. Plötzlich verschwindet der Output, weil die Bedingung nicht mehr zutrifft. Man verwendet hir zwei == Zeichen, um die beiden Werte zu vergleichen. Das Gegenstück zum *if* ist das *else*, mit welchem man alles abfangen kann, was nicht zutrifft:\n"
   ]
  },
  {
   "cell_type": "code",
   "execution_count": 125,
   "metadata": {
    "collapsed": false
   },
   "outputs": [
    {
     "name": "stdout",
     "output_type": "stream",
     "text": [
      "das ist wahr\n"
     ]
    }
   ],
   "source": [
    "nummer1 = 3\n",
    "nummer2 = 5\n",
    "if nummer1 != nummer2:\n",
    "    print \"das ist wahr\"\n",
    "else:\n",
    "    print \"meow\""
   ]
  },
  {
   "cell_type": "markdown",
   "metadata": {},
   "source": [
    "Der Output sollte meow sein. Probiert jetzt mal \"das ist wahr\" ausgeben zu lassen. Was muss man verändern?"
   ]
  },
  {
   "cell_type": "markdown",
   "metadata": {},
   "source": [
    "Man kann aber auch überprüfen ob der Wert einen gewisse Grenze überschreitet mit dem kleiner und grösser Zeichen < >: versucht das > mit dem < zu vertauschen. Verändert sich der Output?\n"
   ]
  },
  {
   "cell_type": "code",
   "execution_count": 108,
   "metadata": {
    "collapsed": false
   },
   "outputs": [
    {
     "name": "stdout",
     "output_type": "stream",
     "text": [
      "nummer1 ist groesser als nummer2\n"
     ]
    }
   ],
   "source": [
    "nummer1 = 5\n",
    "nummer2 = 3\n",
    "if nummer1 > nummer2:\n",
    "    print \"nummer1 ist groesser als nummer2\"\n",
    "else:\n",
    "    print \"## nummer2 ist groesser als nummer1\""
   ]
  },
  {
   "cell_type": "markdown",
   "metadata": {},
   "source": [
    "Ein Problem, dass relativ oft vorkommt, ist wenn man zwei verschiedene Datentypen (z.B. eine Zahl und einen Text) miteinander verknüpfen mag. Seht selbst:"
   ]
  },
  {
   "cell_type": "code",
   "execution_count": 66,
   "metadata": {
    "collapsed": false
   },
   "outputs": [
    {
     "ename": "TypeError",
     "evalue": "cannot concatenate 'str' and 'int' objects",
     "output_type": "error",
     "traceback": [
      "\u001b[0;31m---------------------------------------------------------------------------\u001b[0m",
      "\u001b[0;31mTypeError\u001b[0m                                 Traceback (most recent call last)",
      "\u001b[0;32m<ipython-input-66-de18f04c38de>\u001b[0m in \u001b[0;36m<module>\u001b[0;34m()\u001b[0m\n\u001b[0;32m----> 1\u001b[0;31m \u001b[0;34m\"Die Zufallszahl ist: \"\u001b[0m \u001b[0;34m+\u001b[0m \u001b[0;36m2\u001b[0m \u001b[0;34m+\u001b[0m \u001b[0;34m\" soooo lucky\"\u001b[0m\u001b[0;34m\u001b[0m\u001b[0m\n\u001b[0m",
      "\u001b[0;31mTypeError\u001b[0m: cannot concatenate 'str' and 'int' objects"
     ]
    }
   ],
   "source": [
    "\"Die Zufallszahl ist: \" + str(2) + \" soooo lucky\"\n"
   ]
  },
  {
   "cell_type": "markdown",
   "metadata": {},
   "source": [
    "Wir bekommen die Fehlermeldung \"TypeError: cannot concatenate 'str' and 'int' objects\". Heisst übersetzt: Python kann nicht eine Zahl mit einem Text verknüpfen. Man kann aber die Zahl (also das int objekt) automatische in einen Text verwandeln. Dazu verwendet man die str() Funktion. "
   ]
  },
  {
   "cell_type": "code",
   "execution_count": 20,
   "metadata": {
    "collapsed": false
   },
   "outputs": [
    {
     "data": {
      "text/plain": [
       "'3'"
      ]
     },
     "execution_count": 20,
     "metadata": {},
     "output_type": "execute_result"
    }
   ],
   "source": [
    "str(3)"
   ]
  },
  {
   "cell_type": "code",
   "execution_count": 21,
   "metadata": {
    "collapsed": false
   },
   "outputs": [
    {
     "data": {
      "text/plain": [
       "'Die Zufallszahl ist: 4'"
      ]
     },
     "execution_count": 21,
     "metadata": {},
     "output_type": "execute_result"
    }
   ],
   "source": [
    "\"Die Zufallszahl ist: \" + str(4)"
   ]
  },
  {
   "cell_type": "markdown",
   "metadata": {},
   "source": [
    "Versucht diesen Text \"Die Zufallszahl ist: \" nun mit der random Funktion zu verknüpfen. Bei jedem Ausführen soll eine neue Zahl erscheinen."
   ]
  },
  {
   "cell_type": "code",
   "execution_count": null,
   "metadata": {
    "collapsed": true
   },
   "outputs": [],
   "source": []
  },
  {
   "cell_type": "markdown",
   "metadata": {},
   "source": [
    "Neben if und else gibt es aber noch elif um bedingte Anweisungen zu schreiben. \n"
   ]
  },
  {
   "cell_type": "code",
   "execution_count": 122,
   "metadata": {
    "collapsed": false
   },
   "outputs": [
    {
     "name": "stdout",
     "output_type": "stream",
     "text": [
      "2\n",
      "die zahl ist zwei\n"
     ]
    }
   ],
   "source": [
    "nummer = randint(1,11)\n",
    "print nummer\n",
    "nummer = 2\n",
    "if nummer == 1:\n",
    "    print \"die zahl ist eins\"\n",
    "elif nummer == 2:\n",
    "    print \"die zahl ist zwei\"\n",
    "elif nummer == 3:\n",
    "    print \"die zahl ist zwei\"\n",
    "elif nummer == 4:\n",
    "    print \"die zahl ist zwei\"\n",
    "elif 4 < nummer < 11:\n",
    "    print \"nummer zwsichen 5 und 10\"\n",
    "else:\n",
    "    print \"weder 1 noch 2\""
   ]
  },
  {
   "cell_type": "markdown",
   "metadata": {},
   "source": [
    "Baut mit diesen Elementen einen Zufallswürfel. Zeichnet euch auf einem Blatt Papier die Logik von dem Programm auf. Man verwendet hierfür oft ein sogenanntes [Block-Diagramm](https://en.wikipedia.org/wiki/Functional_block_diagram). Schreibt den Code in den unteren Code-Block: "
   ]
  },
  {
   "cell_type": "code",
   "execution_count": null,
   "metadata": {
    "collapsed": true
   },
   "outputs": [],
   "source": []
  },
  {
   "cell_type": "markdown",
   "metadata": {},
   "source": [
    "Es geht nun weiter mit Schleifen ..."
   ]
  },
  {
   "cell_type": "markdown",
   "metadata": {},
   "source": [
    "### Schleifen und Einrückungen\n",
    "\n",
    "Was sind Schleifen? Man kann den Computer repetitive Sachen ganz einfach mit Schleifen machen lassen. Schleifen, werden benötigt, um einen Codeblock, den man auch als Schleifenkörper bezeichnet, wiederholt auszuführen. In Python gibt es zwei Schleifentypen: die while-Schleife und die for-Schleife."
   ]
  },
  {
   "cell_type": "code",
   "execution_count": 135,
   "metadata": {
    "collapsed": false
   },
   "outputs": [
    {
     "name": "stdout",
     "output_type": "stream",
     "text": [
      "1\n",
      "hello world\n",
      "2\n",
      "hello world\n",
      "3\n",
      "hello world\n",
      "4\n",
      "hello world\n"
     ]
    }
   ],
   "source": [
    "a = 0\n",
    "while a < 4:\n",
    "    #a = a + 1\n",
    "    a += 1\n",
    "    print a\n",
    "    print \"hello world\"\n"
   ]
  },
  {
   "cell_type": "code",
   "execution_count": 142,
   "metadata": {
    "collapsed": false
   },
   "outputs": [
    {
     "name": "stdout",
     "output_type": "stream",
     "text": [
      "hello\n",
      "0\n",
      "hello\n",
      "1\n",
      "hello\n",
      "2\n",
      "hello\n",
      "3\n",
      "hello\n",
      "4\n",
      "hello\n",
      "5\n",
      "hello\n",
      "6\n",
      "hello\n",
      "7\n",
      "hello\n",
      "8\n",
      "hello\n",
      "9\n",
      "hello\n",
      "10\n",
      "hello\n",
      "11\n",
      "hello\n",
      "12\n",
      "hello\n",
      "13\n",
      "hello\n",
      "14\n",
      "hello\n",
      "15\n",
      "hello\n",
      "16\n",
      "hello\n",
      "17\n",
      "hello\n",
      "18\n",
      "hello\n",
      "19\n",
      "hello\n",
      "20\n",
      "hello\n",
      "21\n",
      "hello\n",
      "22\n",
      "hello\n",
      "23\n",
      "hello\n",
      "24\n",
      "hello\n",
      "25\n",
      "hello\n",
      "26\n",
      "hello\n",
      "27\n",
      "hello\n",
      "28\n",
      "hello\n",
      "29\n",
      "hello\n",
      "30\n",
      "hello\n",
      "31\n",
      "hello\n",
      "32\n",
      "hello\n",
      "33\n",
      "hello\n",
      "34\n"
     ]
    }
   ],
   "source": [
    "for i in range(35):\n",
    "    print \"hello\"\n",
    "    print i"
   ]
  },
  {
   "cell_type": "markdown",
   "metadata": {},
   "source": [
    "#### Zeit und Delay"
   ]
  },
  {
   "cell_type": "markdown",
   "metadata": {},
   "source": [
    "Mit dem Modul \"time\" kann man eine Zeitkomponente zu unseren Python Skripts hinzufügen"
   ]
  },
  {
   "cell_type": "code",
   "execution_count": 148,
   "metadata": {
    "collapsed": false
   },
   "outputs": [
    {
     "name": "stdout",
     "output_type": "stream",
     "text": [
      "hello\n",
      "world\n"
     ]
    }
   ],
   "source": [
    "from time import sleep\n",
    "\n",
    "print \"hello\"\n",
    "delay(4)\n",
    "print \"world\""
   ]
  },
  {
   "cell_type": "markdown",
   "metadata": {},
   "source": [
    "Mit sleep kann man das Programm für eine gewisse Zeit pausieren. D. h. der Computer pausiert für die Zeit welchen in den runden Klammern übergeben wird (1 sekunde). Probiert mal den Wert zu ändern. Funktioniert 0.1 ?"
   ]
  },
  {
   "cell_type": "code",
   "execution_count": 45,
   "metadata": {
    "collapsed": false
   },
   "outputs": [
    {
     "name": "stdout",
     "output_type": "stream",
     "text": [
      "yes\n"
     ]
    }
   ],
   "source": [
    "sleep(0.1)\n",
    "print \"yes\""
   ]
  },
  {
   "cell_type": "markdown",
   "metadata": {},
   "source": [
    "Verknüpfen wir das mit der for Schleife, um genauer zu verstehen, was in der Schleife passiert:"
   ]
  },
  {
   "cell_type": "code",
   "execution_count": 153,
   "metadata": {
    "collapsed": false
   },
   "outputs": [
    {
     "name": "stdout",
     "output_type": "stream",
     "text": [
      "0\n",
      "1\n",
      "2\n",
      "3\n",
      "4\n"
     ]
    }
   ],
   "source": [
    "for i in range(5):\n",
    "    print i\n",
    "    sleep(5)"
   ]
  },
  {
   "cell_type": "code",
   "execution_count": 11,
   "metadata": {
    "collapsed": false
   },
   "outputs": [
    {
     "name": "stdout",
     "output_type": "stream",
     "text": [
      "10\n",
      "9\n",
      "8\n",
      "7\n",
      "6\n",
      "5\n",
      "4\n",
      "3\n",
      "2\n",
      "1\n",
      "BOOOOOOOOOM\n"
     ]
    }
   ],
   "source": [
    "from time import sleep\n",
    "zaehler = 10\n",
    "for i in range(zaehler):\n",
    "    countdown = zaehler -i\n",
    "    print countdown\n",
    "    if countdown == 1:\n",
    "        print \"BOOOOOOOOOM\"\n",
    "    sleep(0.5)"
   ]
  },
  {
   "cell_type": "markdown",
   "metadata": {},
   "source": [
    "Wie kann man daraus einen abwärts zählenden Counter bauen? Probiert es euch auf einem Blatt Papier durchzudenken. Tipp: man muss was subtrahieren!"
   ]
  },
  {
   "cell_type": "code",
   "execution_count": 48,
   "metadata": {
    "collapsed": false,
    "scrolled": false
   },
   "outputs": [
    {
     "name": "stdout",
     "output_type": "stream",
     "text": [
      "5\n",
      "4\n",
      "3\n",
      "2\n",
      "1\n"
     ]
    }
   ],
   "source": []
  },
  {
   "cell_type": "markdown",
   "metadata": {},
   "source": [
    "### Listen\n",
    "\n",
    "Eine Liste kann man als einen Stapelspeicher (englisch: stack) ansehen. Man kann beliebig lange Listen erstellen, entweder mit Zahlen oder mit Text, oder mit beiden. Eine Liste von Werten (Elemente) wird durch Kommas getrennt und von eckigen Klammern eingeschlossen. So definiert man eine Liste"
   ]
  },
  {
   "cell_type": "code",
   "execution_count": 23,
   "metadata": {
    "collapsed": false
   },
   "outputs": [
    {
     "name": "stdout",
     "output_type": "stream",
     "text": [
      "['batman', 'saxplayer', 'technoviking', 'nyancat', 'fomo', 'hello', 'lallala', 'adsfa', 'asdfasd', 'batman', 'saxplayer', 'technoviking', 'nyancat', 'fomo', 'hello', 'lallala', 'adsfa', 'asdfasd', 'batman', 'saxplayer', 'technoviking', 'nyancat', 'fomo', 'hello', 'lallala', 'adsfa', 'asdfasd', 'batman', 'saxplayer', 'technoviking', 'nyancat', 'fomo', 'hello', 'lallala', 'adsfa', 'asdfasd', 'batman', 'saxplayer', 'technoviking', 'nyancat', 'fomo', 'hello', 'lallala', 'adsfa', 'asdfasd']\n"
     ]
    }
   ],
   "source": [
    "meineListe = [\"batman\",\"saxplayer\",\"technoviking\",\"nyancat\",\"fomo\",\"hello\",\"lallala\",\"adsfa\",\"asdfasd\",\"batman\",\"saxplayer\",\"technoviking\",\"nyancat\",\"fomo\",\"hello\",\"lallala\",\"adsfa\",\"asdfasd\",\"batman\",\"saxplayer\",\"technoviking\",\"nyancat\",\"fomo\",\"hello\",\"lallala\",\"adsfa\",\"asdfasd\",\"batman\",\"saxplayer\",\"technoviking\",\"nyancat\",\"fomo\",\"hello\",\"lallala\",\"adsfa\",\"asdfasd\",\"batman\",\"saxplayer\",\"technoviking\",\"nyancat\",\"fomo\",\"hello\",\"lallala\",\"adsfa\",\"asdfasd\"]\n",
    "print meineListe"
   ]
  },
  {
   "cell_type": "markdown",
   "metadata": {},
   "source": [
    "Listen sind oft hilfreich (das werden wir später beim Web-Scraping sehen), wo viele Daten meist über Listen gespeichert werden. Um die einzelnen Texte aus der Liste nun auszulesen, kann man einfach schreiben:"
   ]
  },
  {
   "cell_type": "code",
   "execution_count": 24,
   "metadata": {
    "collapsed": false
   },
   "outputs": [
    {
     "name": "stdout",
     "output_type": "stream",
     "text": [
      "batman is so sexy\n",
      "saxplayer is so sexy\n",
      "technoviking is so sexy\n",
      "nyancat is so sexy\n",
      "fomo is so sexy\n",
      "hello is so sexy\n"
     ]
    }
   ],
   "source": [
    "print meineListe[0] + \" is so sexy\"\n",
    "print meineListe[1] + \" is so sexy\"\n",
    "print meineListe[2] + \" is so sexy\"\n",
    "print meineListe[3] + \" is so sexy\"\n",
    "print meineListe[4] + \" is so sexy\"\n",
    "print meineListe[5] + \" is so sexy\"\n"
   ]
  },
  {
   "cell_type": "markdown",
   "metadata": {},
   "source": [
    "Probiert mal alle vier Listenelemente mit print auszugeben:"
   ]
  },
  {
   "cell_type": "code",
   "execution_count": null,
   "metadata": {
    "collapsed": true
   },
   "outputs": [],
   "source": []
  },
  {
   "cell_type": "markdown",
   "metadata": {},
   "source": [
    "Das praktische ist, dass man Schleifen gemeinsam mit Listen verwenden kann."
   ]
  },
  {
   "cell_type": "code",
   "execution_count": 25,
   "metadata": {
    "collapsed": false
   },
   "outputs": [
    {
     "name": "stdout",
     "output_type": "stream",
     "text": [
      "batman is so sexy\n",
      "saxplayer is so sexy\n",
      "technoviking is so sexy\n",
      "nyancat is so sexy\n",
      "fomo is so sexy\n",
      "hello is so sexy\n",
      "lallala is so sexy\n",
      "adsfa is so sexy\n",
      "asdfasd is so sexy\n",
      "batman is so sexy\n",
      "saxplayer is so sexy\n",
      "technoviking is so sexy\n",
      "nyancat is so sexy\n",
      "fomo is so sexy\n",
      "hello is so sexy\n",
      "lallala is so sexy\n",
      "adsfa is so sexy\n",
      "asdfasd is so sexy\n",
      "batman is so sexy\n",
      "saxplayer is so sexy\n",
      "technoviking is so sexy\n",
      "nyancat is so sexy\n",
      "fomo is so sexy\n",
      "hello is so sexy\n",
      "lallala is so sexy\n",
      "adsfa is so sexy\n",
      "asdfasd is so sexy\n",
      "batman is so sexy\n",
      "saxplayer is so sexy\n",
      "technoviking is so sexy\n",
      "nyancat is so sexy\n",
      "fomo is so sexy\n",
      "hello is so sexy\n",
      "lallala is so sexy\n",
      "adsfa is so sexy\n",
      "asdfasd is so sexy\n",
      "batman is so sexy\n",
      "saxplayer is so sexy\n",
      "technoviking is so sexy\n",
      "nyancat is so sexy\n",
      "fomo is so sexy\n",
      "hello is so sexy\n",
      "lallala is so sexy\n",
      "adsfa is so sexy\n",
      "asdfasd is so sexy\n"
     ]
    }
   ],
   "source": [
    "for element in meineListe:\n",
    "    print element + \" is so sexy\""
   ]
  },
  {
   "cell_type": "markdown",
   "metadata": {},
   "source": [
    "Wenn ich die Länge der Liste verändere, kann ich mit derselben for Schleife alle ausgeben:"
   ]
  },
  {
   "cell_type": "code",
   "execution_count": 61,
   "metadata": {
    "collapsed": false
   },
   "outputs": [
    {
     "name": "stdout",
     "output_type": "stream",
     "text": [
      "batman\n",
      "saxplayer\n",
      "technoviking\n",
      "nyancat\n",
      "tronkid\n",
      "trollface\n",
      "Rick Ross\n"
     ]
    }
   ],
   "source": [
    "meineListe = [\"batman\",\"saxplayer\",\"technoviking\",\"nyancat\",\"tronkid\",\"trollface\",\"Rick Ross\"]\n",
    "for element in meineListe:\n",
    "    print element"
   ]
  },
  {
   "cell_type": "markdown",
   "metadata": {},
   "source": [
    "Wir können die Reihenfolge in der Liste mit der Funktion shuffle per Zufall durcheinanderbringen: "
   ]
  },
  {
   "cell_type": "code",
   "execution_count": 33,
   "metadata": {
    "collapsed": false
   },
   "outputs": [],
   "source": [
    "import random\n",
    "random.shuffle(meineListe)"
   ]
  },
  {
   "cell_type": "markdown",
   "metadata": {},
   "source": [
    "Das tut zunächst gar nichts, zumindest sieht es so aus. Aber die Reihenfolge wurde bereits geändert, wenn wir nun meineListe ausgeben lassen, sehen wir folgendes:"
   ]
  },
  {
   "cell_type": "code",
   "execution_count": 34,
   "metadata": {
    "collapsed": false
   },
   "outputs": [
    {
     "data": {
      "text/plain": [
       "['asdfasd',\n",
       " 'asdfasd',\n",
       " 'hello',\n",
       " 'saxplayer',\n",
       " 'lallala',\n",
       " 'hello',\n",
       " 'adsfa',\n",
       " 'saxplayer',\n",
       " 'technoviking',\n",
       " 'batman',\n",
       " 'batman',\n",
       " 'adsfa',\n",
       " 'nyancat',\n",
       " 'nyancat',\n",
       " 'technoviking',\n",
       " 'lallala',\n",
       " 'lallala',\n",
       " 'lallala',\n",
       " 'fomo',\n",
       " 'technoviking',\n",
       " 'saxplayer',\n",
       " 'fomo',\n",
       " 'asdfasd',\n",
       " 'nyancat',\n",
       " 'saxplayer',\n",
       " 'hello',\n",
       " 'technoviking',\n",
       " 'saxplayer',\n",
       " 'fomo',\n",
       " 'adsfa',\n",
       " 'technoviking',\n",
       " 'adsfa',\n",
       " 'hello',\n",
       " 'fomo',\n",
       " 'adsfa',\n",
       " 'batman',\n",
       " 'asdfasd',\n",
       " 'fomo',\n",
       " 'lallala',\n",
       " 'hello',\n",
       " 'batman',\n",
       " 'asdfasd',\n",
       " 'nyancat',\n",
       " 'nyancat',\n",
       " 'batman']"
      ]
     },
     "execution_count": 34,
     "metadata": {},
     "output_type": "execute_result"
    }
   ],
   "source": [
    "meineListe"
   ]
  },
  {
   "cell_type": "markdown",
   "metadata": {},
   "source": [
    "Probiert nun nochmal random.shuffle(meineListe) in der unteren Zeile"
   ]
  },
  {
   "cell_type": "code",
   "execution_count": null,
   "metadata": {
    "collapsed": true
   },
   "outputs": [],
   "source": []
  },
  {
   "cell_type": "markdown",
   "metadata": {},
   "source": [
    "Wenn man die Liste wieder als ganzen Satz ausgeben mag, kann man diese mit join aneinanderketten:"
   ]
  },
  {
   "cell_type": "code",
   "execution_count": 52,
   "metadata": {
    "collapsed": false
   },
   "outputs": [
    {
     "name": "stdout",
     "output_type": "stream",
     "text": [
      "there the beginning in word was the\n",
      "there word the in was beginning the\n",
      "the word in beginning the was there\n",
      "there beginning the word was in the\n",
      "beginning there word in the was the\n",
      "word in beginning the was there the\n",
      "was beginning the word the there in\n",
      "in beginning the there was word the\n",
      "beginning in there the was the word\n",
      "beginning in there the word was the\n"
     ]
    }
   ],
   "source": [
    "from time import sleep\n",
    "neueListe = [\"in\",\"the\",\"beginning\",\"there\",\"was\",\"the\",\"word\"]\n",
    "\n",
    "\n",
    "for i in range(10):\n",
    "    random.shuffle(neueListe)\n",
    "    print \" \".join(neueListe)\n",
    "    sleep(1)"
   ]
  },
  {
   "cell_type": "markdown",
   "metadata": {
    "collapsed": true
   },
   "source": [
    "Versucht mal das ganze in ein File zu packen (also copy/paste in ein file randomgenerator.py). Welche Zeilen brauchen wir? Speichert das File ab und ruft es im Terminal auf:\n",
    "~~~\n",
    "python randomgenerator.py\n",
    "~~~"
   ]
  },
  {
   "cell_type": "code",
   "execution_count": null,
   "metadata": {
    "collapsed": true
   },
   "outputs": [],
   "source": []
  }
 ],
 "metadata": {
  "kernelspec": {
   "display_name": "Python 2",
   "language": "python",
   "name": "python2"
  },
  "language_info": {
   "codemirror_mode": {
    "name": "ipython",
    "version": 2
   },
   "file_extension": ".py",
   "mimetype": "text/x-python",
   "name": "python",
   "nbconvert_exporter": "python",
   "pygments_lexer": "ipython2",
   "version": "2.7.12"
  }
 },
 "nbformat": 4,
 "nbformat_minor": 1
}
