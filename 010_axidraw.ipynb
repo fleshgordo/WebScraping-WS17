{
 "cells": [
  {
   "cell_type": "markdown",
   "metadata": {
    "collapsed": true
   },
   "source": [
    "# Axidraw\n",
    "\n",
    "Einerseits kann man mit diesem Zeichenroboter Illustrationen direkt aus dem Programm [Inkscape](https://inkscape.org/) zeichnen lassen, andererseits gibt es aber auch eine Python Bibliothek mit welcher man den Roboter direkt steuern kann. Hier gibt es die Info zur [Bibliothek](https://github.com/fogleman/axi). Man muss diese nun installieren. Öffnet einen Terminal und stellt sicher, dass ihr in der Blockwoche Umgebung seid:\n",
    "\n",
    "```\n",
    "source activate blockwoche\n",
    "```\n",
    "\n",
    "Danach führt folgende drei Befehle nacheinander im Terminal aus:\n",
    "\n",
    "```\n",
    "git clone https://github.com/fogleman/axi.git\n",
    "cd axi\n",
    "pip install -e .\n",
    "```\n",
    "\n",
    "Falls das geklappt hat, kann man nun die Bibliothek importieren"
   ]
  },
  {
   "cell_type": "code",
   "execution_count": 1,
   "metadata": {
    "collapsed": true
   },
   "outputs": [],
   "source": [
    "import axi\n",
    "\n",
    "# initialisiere roboter\n",
    "d = axi.Device()\n",
    "\n",
    "# schalte motoren ein\n",
    "d.enable_motors()"
   ]
  },
  {
   "cell_type": "code",
   "execution_count": 3,
   "metadata": {
    "collapsed": true
   },
   "outputs": [],
   "source": [
    "turtle = axi.Turtle()\n",
    "\n",
    "# gehe um 0.5inch nach vorwärts\n",
    "turtle.forward(0.5)"
   ]
  },
  {
   "cell_type": "markdown",
   "metadata": {},
   "source": []
  },
  {
   "cell_type": "code",
   "execution_count": 8,
   "metadata": {},
   "outputs": [
    {
     "ename": "Exception",
     "evalue": "Drawing.render() requires cairo",
     "output_type": "error",
     "traceback": [
      "\u001b[0;31m---------------------------------------------------------------------------\u001b[0m",
      "\u001b[0;31mException\u001b[0m                                 Traceback (most recent call last)",
      "\u001b[0;32m<ipython-input-8-36308238b045>\u001b[0m in \u001b[0;36m<module>\u001b[0;34m()\u001b[0m\n\u001b[1;32m      1\u001b[0m \u001b[0mdrawing\u001b[0m \u001b[0;34m=\u001b[0m \u001b[0mturtle\u001b[0m\u001b[0;34m.\u001b[0m\u001b[0mdrawing\u001b[0m\u001b[0;34m.\u001b[0m\u001b[0mrotate_and_scale_to_fit\u001b[0m\u001b[0;34m(\u001b[0m\u001b[0;36m11\u001b[0m\u001b[0;34m,\u001b[0m \u001b[0;36m8.5\u001b[0m\u001b[0;34m,\u001b[0m \u001b[0mstep\u001b[0m\u001b[0;34m=\u001b[0m\u001b[0;36m90\u001b[0m\u001b[0;34m)\u001b[0m\u001b[0;34m\u001b[0m\u001b[0m\n\u001b[0;32m----> 2\u001b[0;31m \u001b[0mim\u001b[0m \u001b[0;34m=\u001b[0m \u001b[0mdrawing\u001b[0m\u001b[0;34m.\u001b[0m\u001b[0mrender\u001b[0m\u001b[0;34m(\u001b[0m\u001b[0;34m)\u001b[0m\u001b[0;34m\u001b[0m\u001b[0m\n\u001b[0m",
      "\u001b[0;32m/Users/gordan.savicic/Downloads/axi/axi/drawing.pyc\u001b[0m in \u001b[0;36mrender\u001b[0;34m(self, scale, margin, line_width)\u001b[0m\n\u001b[1;32m    144\u001b[0m     \u001b[0;32mdef\u001b[0m \u001b[0mrender\u001b[0m\u001b[0;34m(\u001b[0m\u001b[0mself\u001b[0m\u001b[0;34m,\u001b[0m \u001b[0mscale\u001b[0m\u001b[0;34m=\u001b[0m\u001b[0;36m109\u001b[0m\u001b[0;34m,\u001b[0m \u001b[0mmargin\u001b[0m\u001b[0;34m=\u001b[0m\u001b[0;36m30\u001b[0m\u001b[0;34m,\u001b[0m \u001b[0mline_width\u001b[0m\u001b[0;34m=\u001b[0m\u001b[0;36m0.5\u001b[0m\u001b[0;34m/\u001b[0m\u001b[0;36m25.4\u001b[0m\u001b[0;34m)\u001b[0m\u001b[0;34m:\u001b[0m\u001b[0;34m\u001b[0m\u001b[0m\n\u001b[1;32m    145\u001b[0m         \u001b[0;32mif\u001b[0m \u001b[0mcairo\u001b[0m \u001b[0;32mis\u001b[0m \u001b[0mNone\u001b[0m\u001b[0;34m:\u001b[0m\u001b[0;34m\u001b[0m\u001b[0m\n\u001b[0;32m--> 146\u001b[0;31m             \u001b[0;32mraise\u001b[0m \u001b[0mException\u001b[0m\u001b[0;34m(\u001b[0m\u001b[0;34m'Drawing.render() requires cairo'\u001b[0m\u001b[0;34m)\u001b[0m\u001b[0;34m\u001b[0m\u001b[0m\n\u001b[0m\u001b[1;32m    147\u001b[0m         \u001b[0;31m# x1, y1, x2, y2 = self.bounds\u001b[0m\u001b[0;34m\u001b[0m\u001b[0;34m\u001b[0m\u001b[0m\n\u001b[1;32m    148\u001b[0m         \u001b[0mx1\u001b[0m\u001b[0;34m,\u001b[0m \u001b[0my1\u001b[0m\u001b[0;34m,\u001b[0m \u001b[0mx2\u001b[0m\u001b[0;34m,\u001b[0m \u001b[0my2\u001b[0m \u001b[0;34m=\u001b[0m \u001b[0;34m(\u001b[0m\u001b[0;36m0\u001b[0m\u001b[0;34m,\u001b[0m \u001b[0;36m0\u001b[0m\u001b[0;34m,\u001b[0m \u001b[0;36m12\u001b[0m\u001b[0;34m,\u001b[0m \u001b[0;36m8.5\u001b[0m\u001b[0;34m)\u001b[0m\u001b[0;34m\u001b[0m\u001b[0m\n",
      "\u001b[0;31mException\u001b[0m: Drawing.render() requires cairo"
     ]
    }
   ],
   "source": [
    "# speichere die turtle zeichnung in einer variablen\n",
    "drawing = turtle.drawing\n",
    "\n",
    "# übergebe die zeichnung an den roboter - die funktion draw() zeichnet \n",
    "axi.draw(drawing)\n",
    "\n",
    "# schalte die motoren aus\n",
    "d.disable_motors()"
   ]
  },
  {
   "cell_type": "markdown",
   "metadata": {
    "collapsed": true
   },
   "source": [
    "Es gibt noch viele andere turtle Befehle:\n",
    "\n",
    "  - **rt(5)** rotiere nach rechts um 5grad\n",
    "  - **lt(5)** rotiere nach links um 5grad\n",
    "  - **fd(1)** vorwärts um 1inch\n",
    "  - **bk(1)** rückwärts um 1inch\n",
    "  - **pd()** pen down\n",
    "  - **pu()** pen up\n",
    "  - **goto(x,y)** gehe zu einem bestimmten punkt, in den Klammern Zahlenwerte einsetzen"
   ]
  },
  {
   "cell_type": "code",
   "execution_count": null,
   "metadata": {
    "collapsed": true
   },
   "outputs": [],
   "source": []
  }
 ],
 "metadata": {
  "kernelspec": {
   "display_name": "Python 2",
   "language": "python",
   "name": "python2"
  },
  "language_info": {
   "codemirror_mode": {
    "name": "ipython",
    "version": 2
   },
   "file_extension": ".py",
   "mimetype": "text/x-python",
   "name": "python",
   "nbconvert_exporter": "python",
   "pygments_lexer": "ipython2",
   "version": "2.7.14"
  }
 },
 "nbformat": 4,
 "nbformat_minor": 2
}
